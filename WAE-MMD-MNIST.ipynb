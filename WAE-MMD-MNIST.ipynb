{
 "cells": [
  {
   "cell_type": "code",
   "execution_count": 1,
   "metadata": {},
   "outputs": [],
   "source": [
    "import torch\n",
    "import torch.nn as nn\n",
    "import torchvision\n",
    "import torchvision.transforms as transforms\n",
    "import numpy as np\n",
    "from mmd import MMDWAE\n",
    "\n",
    "import matplotlib.pyplot as plt"
   ]
  },
  {
   "cell_type": "code",
   "execution_count": null,
   "metadata": {},
   "outputs": [],
   "source": [
    "class View(nn.Module):\n",
    "    def __init__(self, size):\n",
    "        super(View, self).__init__()\n",
    "        self.size = size\n",
    "\n",
    "    def forward(self, tensor):\n",
    "        return tensor.view(tuple([tensor.shape[0]] + self.size))\n",
    "    \n",
    "class NiNBlock(nn.Module):\n",
    "    def __init__(self, in_ch, out_ch, kernel, stride, pad, type_='down'):\n",
    "        super(NiNBlock, self).__init__()\n",
    "        self.in_ch = in_ch\n",
    "        self.out_ch = out_ch\n",
    "        self.kernel = kernel \n",
    "        self.stride = stride\n",
    "        self.pad = pad\n",
    "        \n",
    "        if type_ == 'down':\n",
    "            self.block = nn.Sequential(nn.Conv2d(self.in_ch, self.out_ch, self.kernel, self.stride, \n",
    "                                                 self.pad, bias=False),\n",
    "                                       nn.BatchNorm2d(self.out_ch),\n",
    "                                       nn.ReLU(True))\n",
    "        else:\n",
    "            self.block = nn.Sequential(nn.ConvTranspose2d(self.in_ch, self.out_ch, self.kernel, self.stride, \n",
    "                                                 self.pad, bias=False),\n",
    "                                       nn.BatchNorm2d(self.out_ch),\n",
    "                                       nn.ReLU(True))\n",
    "        \n",
    "    def forward(self, x):\n",
    "        return self.block(x)\n",
    "    \n",
    "\n",
    "class Encoder(nn.Module):\n",
    "    def __init__(self, z_dim, num_channels, last_dim):\n",
    "        super(Encoder, self).__init__()\n",
    "        self.z_dim = z_dim\n",
    "        self.num_channels = num_channels\n",
    "        self.last_dim = last_dim\n",
    "        \n",
    "        self.net = nn.Sequential(NiNBlock(self.num_channels, 128, 4, 2, 1, 'down'),\n",
    "                                 NiNBlock(128, 256, 4, 2, 1, 'down'),\n",
    "                                 NiNBlock(256, 512, 4, 2, 1, 'down'),\n",
    "                                 NiNBlock(512, 1024, 4, 2, 1, 'down'),\n",
    "                                 View([-1]),\n",
    "                                 nn.Linear(1024 * last_dim * last_dim, self.z_dim),)\n",
    "        \n",
    "    def forward(self, x):\n",
    "        return self.net(x)\n",
    "    \n",
    "\n",
    "class Decoder(nn.Module):\n",
    "    def __init__(self, z_dim, num_channels, first_dim):\n",
    "        super(Decoder, self).__init__()\n",
    "        self.z_dim = z_dim\n",
    "        self.num_channels = num_channels\n",
    "        self.first_dim = first_dim\n",
    "\n",
    "        self.net = nn.Sequential(nn.Linear(self.z_dim, 1024 * self.first_dim * self.first_dim),\n",
    "                                 View([1024, self.first_dim, self.first_dim]),     \n",
    "                                 NiNBlock(1024, 512, 4, 2, 1, 'up'),\n",
    "                                 NiNBlock(512, 256, 4, 2, 1, 'up'),\n",
    "                                 nn.ConvTranspose2d(256, self.num_channels, 3, 1, 1),\n",
    "                                )\n",
    "    def forward(self, x):\n",
    "        return self.net(x)"
   ]
  },
  {
   "cell_type": "code",
   "execution_count": 2,
   "metadata": {},
   "outputs": [
    {
     "data": {
      "text/plain": [
       "Dataset MNIST\n",
       "    Number of datapoints: 60000\n",
       "    Split: train\n",
       "    Root Location: /root/data/sdc/WAE/\n",
       "    Transforms (if any): None\n",
       "    Target Transforms (if any): None"
      ]
     },
     "execution_count": 2,
     "metadata": {},
     "output_type": "execute_result"
    }
   ],
   "source": [
    "torchvision.datasets.MNIST(\n",
    "    root='./',\n",
    "    download=True\n",
    ")\n",
    "\n",
    "train_loader = torch.utils.data.DataLoader(\n",
    "    torchvision.datasets.MNIST('./',\n",
    "                               train=True, \n",
    "                               download=False,\n",
    "                               transform=transforms.Compose([transforms.ToTensor(), transforms.Normalize((0.5,), (1.0,))]),\n",
    "                              ),\n",
    "    batch_size=batch_size, shuffle=True\n",
    ")"
   ]
  },
  {
   "cell_type": "code",
   "execution_count": 6,
   "metadata": {},
   "outputs": [],
   "source": [
    "nc = 1\n",
    "z_dim = 10\n",
    "encoder = Encoder(z_dim, nc, 1)\n",
    "decoder = Decoder(z_dim, nc, 7)"
   ]
  },
  {
   "cell_type": "code",
   "execution_count": 10,
   "metadata": {},
   "outputs": [],
   "source": [
    "def sample_latent_prior(batch_size, device):\n",
    "    return torch.normal(torch.zeros(batch_size, z_dim), torch.ones(batch_size, z_dim)).to(device)\n",
    "\n",
    "def cost(Y_true, Y_pred):\n",
    "    return torch.nn.functional.mse_loss(Y_pred, Y_true)\n",
    "\n",
    "def kernel(z1, z2):\n",
    "\n",
    "    z11 = z1.unsqueeze(1).repeat(1, z2.size(0), 1)\n",
    "    z22 = z2.unsqueeze(0).repeat(z1.size(0), 1, 1)\n",
    "    \n",
    "    C = 1\n",
    "\n",
    "    kernel_matrix = C/(1e-9+C+(z11-z22).pow(2).sum(2))\n",
    "    kernel_sum = kernel_matrix.sum()\n",
    "\n",
    "    return kernel_sum"
   ]
  },
  {
   "cell_type": "code",
   "execution_count": null,
   "metadata": {},
   "outputs": [],
   "source": [
    "device = torch.device(\"cuda:\"+str(1) if torch.cuda.is_available() else \"cpu\")\n",
    "\n",
    "nc = 1\n",
    "z_dim = 10\n",
    "encoder = Encoder(z_dim, nc, 1)\n",
    "decoder = Decoder(z_dim, nc, 7)\n",
    "\n",
    "optimizer = torch.optim.Adam(\n",
    "            list(encoder.parameters()) + list(decoder.parameters()),\n",
    "            lr=1e-4)"
   ]
  },
  {
   "cell_type": "code",
   "execution_count": 12,
   "metadata": {},
   "outputs": [],
   "source": [
    "mmd = MMDWAE(cost=cost, decoder=decoder, encoder=encoder, device=device, lamda_coeff=1, kernel=kernel,\n",
    "       sample_latent_prior=sample_latent_prior, trainloader=train_loader, optimizer=optimizer)\n",
    "\n",
    "mmd.train(10)"
   ]
  },
  {
   "cell_type": "code",
   "execution_count": 14,
   "metadata": {},
   "outputs": [],
   "source": [
    "sample = mmd.sample(10)"
   ]
  },
  {
   "cell_type": "code",
   "execution_count": 25,
   "metadata": {},
   "outputs": [
    {
     "data": {
      "image/png": "[encoded data removed]",
      "text/plain": [
       "<Figure size 1440x864 with 10 Axes>"
      ]
     },
     "metadata": {},
     "output_type": "display_data"
    }
   ],
   "source": [
    "plt.figure(figsize=(20,12))\n",
    "for i in range(10):\n",
    "    plt.subplot(1, 10, i+1)\n",
    "    plt.imshow(sample.data.cpu().numpy()[i][0], cmap='gray')\n",
    "    plt.axis('off')"
   ]
  }
 ],
 "metadata": {
  "kernelspec": {
   "display_name": "Python 3",
   "language": "python",
   "name": "python3"
  },
  "language_info": {
   "codemirror_mode": {
    "name": "ipython",
    "version": 3
   },
   "file_extension": ".py",
   "mimetype": "text/x-python",
   "name": "python",
   "nbconvert_exporter": "python",
   "pygments_lexer": "ipython3",
   "version": "3.7.0"
  }
 },
 "nbformat": 4,
 "nbformat_minor": 2
}
